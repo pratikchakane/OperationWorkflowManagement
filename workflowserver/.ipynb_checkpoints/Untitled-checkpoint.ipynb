{
 "cells": [
  {
   "cell_type": "code",
   "execution_count": 1,
   "id": "b8b3cc69",
   "metadata": {},
   "outputs": [],
   "source": [
    "from flask import Flask,request \n",
    "import pymysql\n",
    "from flask_cors import CORS\n",
    "\n",
    "import threading\n",
    "lock = threading.Lock()\n",
    "import json "
   ]
  },
  {
   "cell_type": "code",
   "execution_count": 2,
   "id": "aadbb8f0",
   "metadata": {},
   "outputs": [],
   "source": [
    "def dbConnection():\n",
    "    try:\n",
    "        connection = pymysql.connect(host=\"localhost\", user=\"root\", password=\"root\", database=\"operationalflow\")\n",
    "        return connection\n",
    "    except:\n",
    "        print(\"Something went wrong in database Connection\")\n",
    "\n",
    "def dbClose():\n",
    "    try:\n",
    "        dbConnection().close()\n",
    "    except:\n",
    "        print(\"Something went wrong in Close DB Connection\")\n",
    "\n",
    "con = dbConnection()\n",
    "cursor = con.cursor()"
   ]
  },
  {
   "cell_type": "code",
   "execution_count": 3,
   "id": "7d623662",
   "metadata": {},
   "outputs": [
    {
     "name": "stdout",
     "output_type": "stream",
     "text": [
      "(('HR', 'Promotion', 'None'), ('Project manager', 'Promotion', 'Accepted'), ('HR', 'Leave', 'Accepted'), ('Team Leader', 'Leave', 'Accepted'))\n",
      "------------------------------\n",
      "['HR', 'Project manager']\n",
      "[('Project manager', 'Promotion', 'Accepted')]\n",
      "['HR', 'Team Leader']\n",
      "[('HR', 'Leave', 'Accepted'), ('Team Leader', 'Leave', 'Accepted')]\n",
      "[]\n",
      "[]\n",
      "------------------------------\n"
     ]
    }
   ],
   "source": [
    "lock.acquire()        \n",
    "cursor.execute('SELECT whoaccess,typeofapply,status FROM userapply WHERE username = %s',('y'))\n",
    "row = cursor.fetchall() \n",
    "lock.release()\n",
    "\n",
    "print(row)\n",
    "p1=[]\n",
    "p2=[]\n",
    "\n",
    "l1=[]\n",
    "l2=[]\n",
    "\n",
    "a1=[]\n",
    "a2=[]\n",
    "\n",
    "for i in row:\n",
    "    if i[1] == 'Promotion':\n",
    "        p1.append(i[0])\n",
    "        if i[2] != 'None':\n",
    "            p2.append(i)\n",
    "    \n",
    "    elif i[1] == 'Leave':\n",
    "        l1.append(i[0])\n",
    "        if i[2] != 'None':\n",
    "            l2.append(i)\n",
    "    else:\n",
    "        a1.append(i[0])\n",
    "        if i[2] != 'None':\n",
    "            a2.append(i)\n",
    "            \n",
    "print('------------------------------')\n",
    "print(p1)\n",
    "print(p2)\n",
    "print(l1)\n",
    "print(l2)\n",
    "print(a1)\n",
    "print(a2)\n",
    "print('------------------------------')"
   ]
  },
  {
   "cell_type": "code",
   "execution_count": 4,
   "id": "0546e73a",
   "metadata": {},
   "outputs": [],
   "source": [
    "p1 = ['HR', 'Project manager','Team Leader']\n",
    "\n",
    "p2 = [('HR', 'Leave', 'Accepted'),('Team Leader', 'Promotion', 'Accepted')]"
   ]
  },
  {
   "cell_type": "code",
   "execution_count": 7,
   "id": "d5a0e061",
   "metadata": {},
   "outputs": [
    {
     "name": "stdout",
     "output_type": "stream",
     "text": [
      "['HR', 'Team Leader']\n",
      "-----------------------\n",
      "['Project manager']\n"
     ]
    }
   ],
   "source": [
    "p_lst = []\n",
    "temp_lst = []\n",
    "for i in range(len(p2)):\n",
    "    for j in p1:\n",
    "#         print(p2[i],j)\n",
    "        if j in p2[i]:\n",
    "            p_lst.append(j)\n",
    "        else:\n",
    "            temp_lst.append(j)      \n",
    "\n",
    "print(p_lst)\n",
    "print('-----------------------')\n",
    "print([i for i in p1 if not i in p_lst or p_lst.remove(i)])"
   ]
  },
  {
   "cell_type": "code",
   "execution_count": 6,
   "id": "9b4f9093",
   "metadata": {},
   "outputs": [
    {
     "name": "stdout",
     "output_type": "stream",
     "text": [
      "Concatenated list using + : [1, 4, 5, 6, 5, 3, 5, 7, 2, 5]\n"
     ]
    }
   ],
   "source": [
    "# Python 3 code to demonstrate list\n",
    "# concatenation using + operator\n",
    "\n",
    "# Initializing lists\n",
    "test_list3 = p_lst\n",
    "test_list4 = [i for i in p1 if not i in p_lst or p_lst.remove(i)]\n",
    "\n",
    "print(type(test_list3))\n",
    "print(type(test_list4))\n",
    "# using + operator to concat\n",
    "test_list3 = test_list3 + test_list4\n",
    "\n",
    "# Printing concatenated list\n",
    "print (\"Concatenated list using + : \"\n",
    "\t\t\t\t+ str(test_list3))\n"
   ]
  },
  {
   "cell_type": "code",
   "execution_count": null,
   "id": "dd04bba4",
   "metadata": {},
   "outputs": [],
   "source": []
  },
  {
   "cell_type": "code",
   "execution_count": null,
   "id": "3c8d5e3b",
   "metadata": {},
   "outputs": [],
   "source": []
  }
 ],
 "metadata": {
  "kernelspec": {
   "display_name": "Python 3 (ipykernel)",
   "language": "python",
   "name": "python3"
  },
  "language_info": {
   "codemirror_mode": {
    "name": "ipython",
    "version": 3
   },
   "file_extension": ".py",
   "mimetype": "text/x-python",
   "name": "python",
   "nbconvert_exporter": "python",
   "pygments_lexer": "ipython3",
   "version": "3.8.13"
  }
 },
 "nbformat": 4,
 "nbformat_minor": 5
}
