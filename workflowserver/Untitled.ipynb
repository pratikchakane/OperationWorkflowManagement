{
 "cells": [
  {
   "cell_type": "code",
   "execution_count": 1,
   "id": "b8b3cc69",
   "metadata": {},
   "outputs": [],
   "source": [
    "from flask import Flask,request \n",
    "import pymysql\n",
    "from flask_cors import CORS\n",
    "\n",
    "import threading\n",
    "lock = threading.Lock()\n",
    "import json "
   ]
  },
  {
   "cell_type": "code",
   "execution_count": 2,
   "id": "aadbb8f0",
   "metadata": {},
   "outputs": [],
   "source": [
    "def dbConnection():\n",
    "    try:\n",
    "        connection = pymysql.connect(host=\"localhost\", user=\"root\", password=\"root\", database=\"operationalflow\")\n",
    "        return connection\n",
    "    except:\n",
    "        print(\"Something went wrong in database Connection\")\n",
    "\n",
    "def dbClose():\n",
    "    try:\n",
    "        dbConnection().close()\n",
    "    except:\n",
    "        print(\"Something went wrong in Close DB Connection\")\n",
    "\n",
    "con = dbConnection()\n",
    "cursor = con.cursor()"
   ]
  },
  {
   "cell_type": "code",
   "execution_count": 3,
   "id": "7d623662",
   "metadata": {},
   "outputs": [
    {
     "name": "stdout",
     "output_type": "stream",
     "text": [
      "------------------------------\n",
      "[('Project manager', 'Promotion', 'Accepted')]\n",
      "[('HR', 'Leave', 'Accepted')]\n",
      "[]\n",
      "------------------------------\n"
     ]
    }
   ],
   "source": [
    "lock.acquire()        \n",
    "cursor.execute('SELECT whoaccess,typeofapply,status FROM userapply WHERE username = %s',('y'))\n",
    "row = cursor.fetchall() \n",
    "lock.release()\n",
    "p2=[]\n",
    "l2=[]\n",
    "a2=[]\n",
    "\n",
    "for i in row:\n",
    "    if i[1] == 'Promotion':\n",
    "        if i[2] != 'None':\n",
    "            p2.append(i)    \n",
    "    elif i[1] == 'Leave':\n",
    "        if i[2] != 'None':\n",
    "            l2.append(i)\n",
    "    else:\n",
    "        if i[2] != 'None':\n",
    "            a2.append(i)\n",
    "            \n",
    "print('------------------------------')\n",
    "print(p2)\n",
    "print(l2)\n",
    "print(a2)\n",
    "print('------------------------------')"
   ]
  },
  {
   "cell_type": "code",
   "execution_count": 8,
   "id": "0546e73a",
   "metadata": {},
   "outputs": [
    {
     "name": "stdout",
     "output_type": "stream",
     "text": [
      "['HR']\n",
      "['HR', 'Project manager', 'Team Leader']\n",
      "-----------------------\n",
      "['Project manager']\n",
      "['Project manager', 'HR', 'Team Leader']\n",
      "-----------------------\n",
      "[]\n",
      "['HR', 'Project manager', 'Team Leader']\n",
      "-----------------------\n"
     ]
    }
   ],
   "source": [
    "mainlst = ['HR', 'Project manager','Team Leader']\n",
    "Leave_lst = []\n",
    "for i in range(len(l2)):\n",
    "    for j in mainlst:\n",
    "        if j in l2[i]:\n",
    "            Leave_lst.append(j)    \n",
    "\n",
    "print(Leave_lst)\n",
    "test_list1=Leave_lst+[i for i in mainlst if not i in Leave_lst]\n",
    "print(test_list1)\n",
    "print('-----------------------')\n",
    "\n",
    "Promotion_lst = []\n",
    "for i in range(len(p2)):\n",
    "    for j in mainlst:\n",
    "        if j in p2[i]:\n",
    "            Promotion_lst.append(j)    \n",
    "\n",
    "print(Promotion_lst)\n",
    "test_list2=Promotion_lst+[i for i in mainlst if not i in Promotion_lst]\n",
    "print(test_list2)\n",
    "print('-----------------------')\n",
    "\n",
    "Appraisal_lst = []\n",
    "for i in range(len(a2)):\n",
    "    for j in mainlst:\n",
    "        if j in a2[i]:\n",
    "            Appraisal_lst.append(j)    \n",
    "\n",
    "print(Appraisal_lst)\n",
    "test_list3=Appraisal_lst+[i for i in mainlst if not i in Appraisal_lst]\n",
    "print(test_list3)\n",
    "print('-----------------------')"
   ]
  },
  {
   "cell_type": "code",
   "execution_count": null,
   "id": "d5a0e061",
   "metadata": {},
   "outputs": [],
   "source": []
  },
  {
   "cell_type": "code",
   "execution_count": null,
   "id": "9b4f9093",
   "metadata": {},
   "outputs": [],
   "source": []
  },
  {
   "cell_type": "code",
   "execution_count": null,
   "id": "dd04bba4",
   "metadata": {},
   "outputs": [],
   "source": []
  },
  {
   "cell_type": "code",
   "execution_count": 5,
   "id": "6a02ee16",
   "metadata": {},
   "outputs": [],
   "source": [
    "# p1 = ['HR', 'Project manager','Team Leader']\n",
    "\n",
    "# p2 = [('Team Leader', 'Leave', 'Accepted'),('Project manager', 'Promotion', 'Accepted')]"
   ]
  },
  {
   "cell_type": "code",
   "execution_count": 6,
   "id": "82b74b13",
   "metadata": {},
   "outputs": [],
   "source": [
    "# p_lst = []\n",
    "# for i in range(len(p2)):\n",
    "#     for j in p1:\n",
    "#         if j in p2[i]:\n",
    "#             p_lst.append(j)    \n",
    "\n",
    "# print(p_lst)\n",
    "# print('-----------------------')\n",
    "# test_list2=p_lst+[i for i in p1 if not i in p_lst]\n",
    "# test_list2"
   ]
  },
  {
   "cell_type": "code",
   "execution_count": null,
   "id": "b609c178",
   "metadata": {},
   "outputs": [],
   "source": []
  }
 ],
 "metadata": {
  "kernelspec": {
   "display_name": "Python 3 (ipykernel)",
   "language": "python",
   "name": "python3"
  },
  "language_info": {
   "codemirror_mode": {
    "name": "ipython",
    "version": 3
   },
   "file_extension": ".py",
   "mimetype": "text/x-python",
   "name": "python",
   "nbconvert_exporter": "python",
   "pygments_lexer": "ipython3",
   "version": "3.8.13"
  }
 },
 "nbformat": 4,
 "nbformat_minor": 5
}
